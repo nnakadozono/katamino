{
 "cells": [
  {
   "cell_type": "code",
   "execution_count": 1,
   "metadata": {},
   "outputs": [],
   "source": [
    "import numpy as np"
   ]
  },
  {
   "cell_type": "code",
   "execution_count": 126,
   "metadata": {},
   "outputs": [],
   "source": [
    "petomino = {\n",
    "    'T': {\n",
    "        'matrix': np.array([\n",
    "            [1, 1, 1],\n",
    "            [0, 1, 0],\n",
    "            [0, 1, 0]\n",
    "            ], dtype=bool),\n",
    "        'pattern': ['1', '2', '3', '4', ]\n",
    "    },\n",
    "    'L': {\n",
    "        'matrix': np.array([\n",
    "            [1, 0],\n",
    "            [1, 0],\n",
    "            [1, 0],\n",
    "            [1, 1]\n",
    "            ], dtype=bool),\n",
    "        'pattern': ['1', '2', '3', '4', 'R1', 'R2', 'R3', 'R4']\n",
    "    },\n",
    "    'B': {\n",
    "        'matrix': np.array([\n",
    "            # [1, 0],\n",
    "            # [1, 1],\n",
    "            # [1, 0],\n",
    "            # [1, 0]\n",
    "            [0, 1],\n",
    "            [0, 1],\n",
    "            [1, 1],\n",
    "            [0, 1]\n",
    "            ], dtype=bool),\n",
    "        'pattern': ['1', '2', '3', '4', 'R1', 'R2', 'R3', 'R4']\n",
    "    },\n",
    "}\n"
   ]
  },
  {
   "cell_type": "code",
   "execution_count": 127,
   "metadata": {},
   "outputs": [
    {
     "name": "stdout",
     "output_type": "stream",
     "text": [
      "ha 0 3 False\n",
      "L 0 0 0\n",
      "L 0 0 0\n",
      "[[ True False False]\n",
      " [ True False False]\n",
      " [ True False False]\n",
      " [ True  True False]\n",
      " [False False False]]\n",
      "ha 1 3 False\n",
      "T 1 0 0\n",
      "T 1 1 0\n",
      "T 1 2 0\n",
      "[[False False False]\n",
      " [False False False]\n",
      " [False False False]\n",
      " [False False False]\n",
      " [False False False]]\n",
      "L 0 0 1\n",
      "L 0 0 1\n",
      "[[False  True False]\n",
      " [False  True False]\n",
      " [False  True False]\n",
      " [False  True  True]\n",
      " [False False False]]\n",
      "ha 1 3 False\n",
      "T 1 0 0\n",
      "T 1 1 0\n",
      "T 1 2 0\n",
      "[[False False False]\n",
      " [False False False]\n",
      " [False False False]\n",
      " [False False False]\n",
      " [False False False]]\n",
      "L 0 1 0\n",
      "L 0 1 0\n",
      "[[False False False]\n",
      " [ True False False]\n",
      " [ True False False]\n",
      " [ True False False]\n",
      " [ True  True False]]\n",
      "ha 1 3 False\n",
      "T 1 0 0\n",
      "T 1 0 0\n",
      "[[ True  True  True]\n",
      " [ True  True False]\n",
      " [ True  True False]\n",
      " [ True False False]\n",
      " [ True  True False]]\n",
      "ha 2 3 False\n",
      "B 2 0 0\n",
      "B 2 0 1\n",
      "B 2 1 0\n",
      "B 2 1 1\n",
      "B 2 1 1\n",
      "[[ True  True  True]\n",
      " [ True  True  True]\n",
      " [ True  True  True]\n",
      " [ True  True  True]\n",
      " [ True  True  True]]\n",
      "ha 3 3 False\n",
      "Tada!\n",
      "[[ True  True  True]\n",
      " [ True  True  True]\n",
      " [ True  True  True]\n",
      " [ True  True  True]\n",
      " [ True  True  True]]\n"
     ]
    },
    {
     "data": {
      "text/plain": [
       "True"
      ]
     },
     "execution_count": 127,
     "metadata": {},
     "output_type": "execute_result"
    }
   ],
   "source": [
    "xmax, ymax = 5, 3\n",
    "field = np.zeros((xmax, ymax), dtype=bool)\n",
    "field\n",
    "\n",
    "set = ['L', 'T', 'B']\n",
    "\n",
    "def can_put(fld, mt):\n",
    "    return (fld & mt).sum() == 0\n",
    "\n",
    "def check_pent(field, set, iset):\n",
    "    print('ha', iset, len(set), len(set)+1==iset)\n",
    "    if len(set) == iset:\n",
    "        print('Tada!')\n",
    "        print(field)\n",
    "        return True\n",
    "\n",
    "    p = set[iset]\n",
    "    mat = petomino[p]['matrix']\n",
    "    x, y = mat.shape\n",
    "\n",
    "    xn, yn = xmax - x, ymax - y\n",
    "    \n",
    "    for xpos in range(xn+1):\n",
    "        for ypos in range(yn+1):\n",
    "            # print(xpos, ypos)\n",
    "            print(p, iset, xpos, ypos)\n",
    "            field_slice = field[xpos:xpos+x, ypos:ypos+y]\n",
    "            # if p == 'B':\n",
    "            #     print(field_slice)\n",
    "            #     print(mat)\n",
    "            if can_put(field_slice, mat) == True:\n",
    "                field[xpos:xpos+x, ypos:ypos+y][mat] = True\n",
    "                print(p, iset, xpos, ypos)\n",
    "                print(field)\n",
    "                if check_pent(field, set, iset+1):\n",
    "                    return True\n",
    "                else:\n",
    "                    field[xpos:xpos+x, ypos:ypos+y][mat] = False\n",
    "                    print(field)\n",
    "    return False\n",
    "\n",
    "\n",
    "check_pent(field, set, iset=0)\n"
   ]
  },
  {
   "cell_type": "code",
   "execution_count": null,
   "metadata": {},
   "outputs": [],
   "source": []
  },
  {
   "cell_type": "code",
   "execution_count": null,
   "metadata": {},
   "outputs": [],
   "source": []
  },
  {
   "cell_type": "code",
   "execution_count": null,
   "metadata": {},
   "outputs": [],
   "source": []
  },
  {
   "cell_type": "code",
   "execution_count": null,
   "metadata": {},
   "outputs": [],
   "source": []
  },
  {
   "cell_type": "code",
   "execution_count": 128,
   "metadata": {},
   "outputs": [
    {
     "data": {
      "text/plain": [
       "array([[0, 1, 2, 3, 4],\n",
       "       [5, 6, 7, 8, 9]])"
      ]
     },
     "execution_count": 128,
     "metadata": {},
     "output_type": "execute_result"
    }
   ],
   "source": [
    "x = np.arange(10)\n",
    "x.shape = (2, 5)\n",
    "x\n"
   ]
  },
  {
   "cell_type": "code",
   "execution_count": 129,
   "metadata": {},
   "outputs": [
    {
     "data": {
      "text/plain": [
       "array([[0, 1, 0, 1, 4],\n",
       "       [5, 6, 2, 3, 9]])"
      ]
     },
     "execution_count": 129,
     "metadata": {},
     "output_type": "execute_result"
    }
   ],
   "source": [
    "x[0:2, 2:4] = np.arange(4).reshape(2, 2)\n",
    "x"
   ]
  },
  {
   "cell_type": "code",
   "execution_count": null,
   "metadata": {},
   "outputs": [],
   "source": []
  }
 ],
 "metadata": {
  "kernelspec": {
   "display_name": "base",
   "language": "python",
   "name": "python3"
  },
  "language_info": {
   "codemirror_mode": {
    "name": "ipython",
    "version": 3
   },
   "file_extension": ".py",
   "mimetype": "text/x-python",
   "name": "python",
   "nbconvert_exporter": "python",
   "pygments_lexer": "ipython3",
   "version": "3.9.1"
  },
  "orig_nbformat": 4,
  "vscode": {
   "interpreter": {
    "hash": "8b32c76190453b56167a0232acebc56159841b31010af7170525e5931f80302a"
   }
  }
 },
 "nbformat": 4,
 "nbformat_minor": 2
}
